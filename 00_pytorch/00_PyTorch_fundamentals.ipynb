{
  "cells": [
    {
      "cell_type": "code",
      "execution_count": null,
      "metadata": {
        "colab": {
          "base_uri": "https://localhost:8080/"
        },
        "id": "-a4UQs503USt",
        "outputId": "d6a3398f-319f-4308-c216-c560803b0baa"
      },
      "outputs": [
        {
          "output_type": "stream",
          "name": "stdout",
          "text": [
            "2.5.1+cu121\n"
          ]
        }
      ],
      "source": [
        "import torch\n",
        "import pandas as pd\n",
        "import numpy as np\n",
        "import matplotlib.pyplot as plt\n",
        "print(torch.__version__)"
      ]
    },
    {
      "cell_type": "markdown",
      "metadata": {
        "id": "pkwWeWK05s7r"
      },
      "source": [
        "# Introduction to Tensors\n",
        "##Creating tensors"
      ]
    },
    {
      "cell_type": "code",
      "execution_count": null,
      "metadata": {
        "colab": {
          "base_uri": "https://localhost:8080/"
        },
        "id": "1t1hyui65yg0",
        "outputId": "9c4b4c24-2804-4a7d-ed5e-86c786de5d2c"
      },
      "outputs": [
        {
          "output_type": "execute_result",
          "data": {
            "text/plain": [
              "tensor(7)"
            ]
          },
          "metadata": {},
          "execution_count": 40
        }
      ],
      "source": [
        "#scalars\n",
        "\n",
        "scalar = torch.tensor(7)\n",
        "scalar"
      ]
    },
    {
      "cell_type": "code",
      "execution_count": null,
      "metadata": {
        "colab": {
          "base_uri": "https://localhost:8080/"
        },
        "id": "bIuBdThe8hcA",
        "outputId": "e66b0eb9-8367-4975-81a3-70bfa073d4fa"
      },
      "outputs": [
        {
          "output_type": "execute_result",
          "data": {
            "text/plain": [
              "0"
            ]
          },
          "metadata": {},
          "execution_count": 41
        }
      ],
      "source": [
        "# dimension of the scalar\n",
        "scalar.ndim"
      ]
    },
    {
      "cell_type": "code",
      "execution_count": null,
      "metadata": {
        "colab": {
          "base_uri": "https://localhost:8080/"
        },
        "id": "_8n_5xOT89lU",
        "outputId": "0a6a98d7-b365-46f4-bb61-913407f43f2d"
      },
      "outputs": [
        {
          "output_type": "execute_result",
          "data": {
            "text/plain": [
              "7"
            ]
          },
          "metadata": {},
          "execution_count": 42
        }
      ],
      "source": [
        "scalar.item()"
      ]
    },
    {
      "cell_type": "code",
      "execution_count": null,
      "metadata": {
        "colab": {
          "base_uri": "https://localhost:8080/"
        },
        "id": "YUHJhGRd9AkU",
        "outputId": "7b15352f-9127-403c-f85a-d5f16ed2e894"
      },
      "outputs": [
        {
          "output_type": "execute_result",
          "data": {
            "text/plain": [
              "1"
            ]
          },
          "metadata": {},
          "execution_count": 43
        }
      ],
      "source": [
        "#vector\n",
        "vector = torch.tensor([1,2,3])\n",
        "vector.ndim"
      ]
    },
    {
      "cell_type": "code",
      "execution_count": null,
      "metadata": {
        "colab": {
          "base_uri": "https://localhost:8080/"
        },
        "id": "JpNpAkex9WRj",
        "outputId": "8da19106-5e42-43d1-c869-33fbf3860744"
      },
      "outputs": [
        {
          "output_type": "execute_result",
          "data": {
            "text/plain": [
              "torch.Size([3])"
            ]
          },
          "metadata": {},
          "execution_count": 44
        }
      ],
      "source": [
        "vector.shape"
      ]
    },
    {
      "cell_type": "code",
      "execution_count": null,
      "metadata": {
        "colab": {
          "base_uri": "https://localhost:8080/"
        },
        "id": "tRR3xps193-5",
        "outputId": "49199183-6e49-4aa6-cc57-7bc30f9e6240"
      },
      "outputs": [
        {
          "output_type": "execute_result",
          "data": {
            "text/plain": [
              "2"
            ]
          },
          "metadata": {},
          "execution_count": 45
        }
      ],
      "source": [
        "#MATRIX\n",
        "MATRIX = torch.tensor([[1,2],\n",
        "                        [3,4]])\n",
        "MATRIX.shape\n",
        "MATRIX.ndim"
      ]
    },
    {
      "cell_type": "code",
      "execution_count": null,
      "metadata": {
        "colab": {
          "base_uri": "https://localhost:8080/"
        },
        "id": "inWT0Wri_BEK",
        "outputId": "c9326fc9-45bb-4901-945f-66f003f6bb11"
      },
      "outputs": [
        {
          "output_type": "execute_result",
          "data": {
            "text/plain": [
              "tensor([[[1, 2, 3],\n",
              "         [4, 5, 6],\n",
              "         [7, 8, 9]]])"
            ]
          },
          "metadata": {},
          "execution_count": 46
        }
      ],
      "source": [
        "#TENSOR\n",
        "TENSOR = torch.tensor([[[1,2,3],\n",
        "                       [4,5,6],\n",
        "                       [7,8,9]]])\n",
        "TENSOR"
      ]
    },
    {
      "cell_type": "code",
      "execution_count": null,
      "metadata": {
        "colab": {
          "base_uri": "https://localhost:8080/"
        },
        "id": "aQgXGcHA_kPh",
        "outputId": "04b1c446-db82-422e-d781-d4b5e6db276d"
      },
      "outputs": [
        {
          "output_type": "execute_result",
          "data": {
            "text/plain": [
              "3"
            ]
          },
          "metadata": {},
          "execution_count": 47
        }
      ],
      "source": [
        "TENSOR.ndim"
      ]
    },
    {
      "cell_type": "code",
      "execution_count": null,
      "metadata": {
        "colab": {
          "base_uri": "https://localhost:8080/"
        },
        "id": "4KZbmwaG_pgx",
        "outputId": "431b6c7e-1de0-4db4-c8db-d5c3f62d9e64"
      },
      "outputs": [
        {
          "output_type": "execute_result",
          "data": {
            "text/plain": [
              "torch.Size([1, 3, 3])"
            ]
          },
          "metadata": {},
          "execution_count": 48
        }
      ],
      "source": [
        "TENSOR.shape"
      ]
    },
    {
      "cell_type": "code",
      "execution_count": null,
      "metadata": {
        "colab": {
          "base_uri": "https://localhost:8080/"
        },
        "id": "xBDnx6Gm_2u0",
        "outputId": "54fbd171-1643-46e1-d602-c2cad512235b"
      },
      "outputs": [
        {
          "output_type": "execute_result",
          "data": {
            "text/plain": [
              "tensor([[1, 2, 3],\n",
              "        [4, 5, 6],\n",
              "        [7, 8, 9]])"
            ]
          },
          "metadata": {},
          "execution_count": 49
        }
      ],
      "source": [
        "TENSOR[0]"
      ]
    },
    {
      "cell_type": "code",
      "execution_count": null,
      "metadata": {
        "colab": {
          "base_uri": "https://localhost:8080/"
        },
        "id": "m_z23bYWAGgp",
        "outputId": "9c1efd20-8f79-4261-fc1f-870b16a38a5a"
      },
      "outputs": [
        {
          "output_type": "execute_result",
          "data": {
            "text/plain": [
              "tensor([1, 2, 3])"
            ]
          },
          "metadata": {},
          "execution_count": 50
        }
      ],
      "source": [
        "TENSOR1 = torch.tensor([[[1,2,3],\n",
        "                         [4,5,6],\n",
        "                         [7,8,9]],\n",
        "                        [[11,12,13],\n",
        "                         [21,22,23],\n",
        "                         [31,32,33]]])\n",
        "TENSOR1[0][0]\n"
      ]
    },
    {
      "cell_type": "markdown",
      "metadata": {
        "id": "v7urippi6Q9k"
      },
      "source": [
        "#Random numbers\n",
        "\n",
        "###Why random tensors?\n",
        "Random tensors are important because the way many neural netweork learn is that they start with tensors full of random numbers and then adjust those random numbers to better represent the dataset.\n",
        "\n",
        "`Start with random numbers -> look at data -> update random numbers`"
      ]
    },
    {
      "cell_type": "code",
      "execution_count": null,
      "metadata": {
        "colab": {
          "base_uri": "https://localhost:8080/"
        },
        "id": "swbRRgSx58iw",
        "outputId": "bcadfc0f-d9a7-461b-eca8-e0b412f1f0ea"
      },
      "outputs": [
        {
          "output_type": "execute_result",
          "data": {
            "text/plain": [
              "tensor([[0.7745, 0.1343, 0.9265, 0.6297],\n",
              "        [0.9789, 0.2795, 0.2866, 0.2742],\n",
              "        [0.4775, 0.5752, 0.6449, 0.3580]])"
            ]
          },
          "metadata": {},
          "execution_count": 51
        }
      ],
      "source": [
        "#Create a random tensor of size (3,4)\n",
        "random_tensor = torch.rand(3, 4)\n",
        "\n",
        "random_tensor\n"
      ]
    },
    {
      "cell_type": "code",
      "execution_count": null,
      "metadata": {
        "colab": {
          "base_uri": "https://localhost:8080/"
        },
        "id": "oeEHgqvB805C",
        "outputId": "102592a4-598f-4c11-ab17-293d19057dd4"
      },
      "outputs": [
        {
          "output_type": "execute_result",
          "data": {
            "text/plain": [
              "2"
            ]
          },
          "metadata": {},
          "execution_count": 52
        }
      ],
      "source": [
        "random_tensor.ndim"
      ]
    },
    {
      "cell_type": "code",
      "execution_count": null,
      "metadata": {
        "colab": {
          "base_uri": "https://localhost:8080/"
        },
        "id": "_EHBcacW9kJu",
        "outputId": "6cc35076-23c7-48d2-c503-df6d3e701a2a"
      },
      "outputs": [
        {
          "output_type": "execute_result",
          "data": {
            "text/plain": [
              "(torch.Size([224, 224, 3]), 3)"
            ]
          },
          "metadata": {},
          "execution_count": 53
        }
      ],
      "source": [
        "#Create a random tensor with similar shape to an image tensor\n",
        "random_image_size_tensor = torch.rand(size=(224, 224, 3))\n",
        "random_image_size_tensor.shape, random_image_size_tensor.ndim"
      ]
    },
    {
      "cell_type": "markdown",
      "metadata": {
        "id": "CXczJNNk-rW1"
      },
      "source": [
        "#Zeros and ones"
      ]
    },
    {
      "cell_type": "code",
      "execution_count": null,
      "metadata": {
        "colab": {
          "base_uri": "https://localhost:8080/"
        },
        "id": "QzqWLdEs-uFE",
        "outputId": "a7c4c90c-2547-44d8-f379-5475dd4692df"
      },
      "outputs": [
        {
          "output_type": "execute_result",
          "data": {
            "text/plain": [
              "tensor([[0., 0., 0., 0.],\n",
              "        [0., 0., 0., 0.],\n",
              "        [0., 0., 0., 0.]])"
            ]
          },
          "metadata": {},
          "execution_count": 54
        }
      ],
      "source": [
        "#Creating a tensor of all zeros\n",
        "zero = torch.zeros(size=(3,4))\n",
        "zero"
      ]
    },
    {
      "cell_type": "code",
      "execution_count": null,
      "metadata": {
        "colab": {
          "base_uri": "https://localhost:8080/"
        },
        "id": "3Jk-zgY3-78T",
        "outputId": "b5bc0dd3-a52f-41d0-bf84-6b87e39d4bf5"
      },
      "outputs": [
        {
          "output_type": "execute_result",
          "data": {
            "text/plain": [
              "tensor([[0., 0., 0., 0.],\n",
              "        [0., 0., 0., 0.],\n",
              "        [0., 0., 0., 0.]])"
            ]
          },
          "metadata": {},
          "execution_count": 55
        }
      ],
      "source": [
        "zero * random_tensor"
      ]
    },
    {
      "cell_type": "code",
      "execution_count": null,
      "metadata": {
        "colab": {
          "base_uri": "https://localhost:8080/"
        },
        "id": "qTCREQXu_EXD",
        "outputId": "73159fc4-9cf5-4d6a-8f0a-8eef8dbc30c9"
      },
      "outputs": [
        {
          "output_type": "execute_result",
          "data": {
            "text/plain": [
              "tensor([[1., 1., 1., 1.],\n",
              "        [1., 1., 1., 1.],\n",
              "        [1., 1., 1., 1.]])"
            ]
          },
          "metadata": {},
          "execution_count": 56
        }
      ],
      "source": [
        "#creating tensors of all one\n",
        "ones = torch.ones(size=(3,4))\n",
        "ones"
      ]
    },
    {
      "cell_type": "code",
      "execution_count": null,
      "metadata": {
        "colab": {
          "base_uri": "https://localhost:8080/"
        },
        "id": "H6_3wFiB_awY",
        "outputId": "0115a96d-1c5b-4268-de40-0f74e6fce556"
      },
      "outputs": [
        {
          "output_type": "execute_result",
          "data": {
            "text/plain": [
              "torch.float32"
            ]
          },
          "metadata": {},
          "execution_count": 57
        }
      ],
      "source": [
        "ones.dtype"
      ]
    },
    {
      "cell_type": "markdown",
      "metadata": {
        "id": "xz_Vfwxv_sun"
      },
      "source": [
        "#Creating a range of tensors and tensors-like"
      ]
    },
    {
      "cell_type": "code",
      "execution_count": null,
      "metadata": {
        "colab": {
          "base_uri": "https://localhost:8080/"
        },
        "id": "PC557nBN_zoY",
        "outputId": "260feca3-e4ef-4d81-8cc7-d84913993466"
      },
      "outputs": [
        {
          "output_type": "execute_result",
          "data": {
            "text/plain": [
              "tensor([1, 2, 3, 4, 5, 6, 7, 8, 9])"
            ]
          },
          "metadata": {},
          "execution_count": 58
        }
      ],
      "source": [
        "#Use torch.range() and get depreciated message, use torch.arange()\n",
        "oneToTen = torch.arange(start = 1, end = 10, step = 1)\n",
        "oneToTen"
      ]
    },
    {
      "cell_type": "code",
      "execution_count": null,
      "metadata": {
        "colab": {
          "base_uri": "https://localhost:8080/"
        },
        "id": "CBz4vhaOAac8",
        "outputId": "6ba70222-50a5-44db-f2be-a939bd77f80f"
      },
      "outputs": [
        {
          "output_type": "execute_result",
          "data": {
            "text/plain": [
              "tensor([0, 0, 0, 0, 0, 0, 0, 0, 0])"
            ]
          },
          "metadata": {},
          "execution_count": 59
        }
      ],
      "source": [
        "#creating tensors like\n",
        "ten_zeros = torch.zeros_like(input=oneToTen)\n",
        "ten_zeros"
      ]
    },
    {
      "cell_type": "code",
      "execution_count": null,
      "metadata": {
        "colab": {
          "base_uri": "https://localhost:8080/"
        },
        "id": "iTGXwsVABKl4",
        "outputId": "3209608c-f6ab-4b49-9a4d-198702fb82ec"
      },
      "outputs": [
        {
          "output_type": "execute_result",
          "data": {
            "text/plain": [
              "tensor([[1., 1., 1., 1.],\n",
              "        [1., 1., 1., 1.],\n",
              "        [1., 1., 1., 1.]])"
            ]
          },
          "metadata": {},
          "execution_count": 60
        }
      ],
      "source": [
        "anotherOne = torch.ones_like(input=zero)\n",
        "anotherOne"
      ]
    },
    {
      "cell_type": "markdown",
      "metadata": {
        "id": "CGFTdWopC_AK"
      },
      "source": [
        "#Tensor datatypes\n",
        "\n",
        "\n",
        "**Note:** Tensor datatypes is one of the 3 big errors you'll run into with pyTorch and deep learning\n",
        "\n",
        "1. Tensors not right datatype\n",
        "2. Tensors not right shape\n",
        "3. Tensors not on the right device"
      ]
    },
    {
      "cell_type": "code",
      "execution_count": null,
      "metadata": {
        "colab": {
          "base_uri": "https://localhost:8080/"
        },
        "id": "y4XP1AVXC55X",
        "outputId": "9e3c7581-ba1c-4228-c359-824dd046b9a5"
      },
      "outputs": [
        {
          "output_type": "execute_result",
          "data": {
            "text/plain": [
              "tensor([3., 6., 9.])"
            ]
          },
          "metadata": {},
          "execution_count": 61
        }
      ],
      "source": [
        " #Float 32 tensor\n",
        "float_32_tensor = torch.tensor([3.0, 6.0, 9.0],\n",
        "                                dtype=None, #what datatype is the tensor (e.g. float32 or float16)\n",
        "                                device= None, #what divise is your tensor on\n",
        "                                requires_grad=False) #whether or not to track gradients with this tensors operations\n",
        "float_32_tensor"
      ]
    },
    {
      "cell_type": "code",
      "execution_count": null,
      "metadata": {
        "colab": {
          "base_uri": "https://localhost:8080/"
        },
        "id": "DuaZn4k0GTpK",
        "outputId": "317fccf8-bed0-4549-8399-1b9623e36338"
      },
      "outputs": [
        {
          "output_type": "execute_result",
          "data": {
            "text/plain": [
              "torch.float32"
            ]
          },
          "metadata": {},
          "execution_count": 62
        }
      ],
      "source": [
        "float_32_tensor.dtype"
      ]
    },
    {
      "cell_type": "code",
      "execution_count": null,
      "metadata": {
        "colab": {
          "base_uri": "https://localhost:8080/"
        },
        "id": "YkabbW_xIPEz",
        "outputId": "b32c9929-abe7-4277-a50a-d8ad903bee9a"
      },
      "outputs": [
        {
          "output_type": "execute_result",
          "data": {
            "text/plain": [
              "tensor([3., 6., 9.], dtype=torch.float16)"
            ]
          },
          "metadata": {},
          "execution_count": 63
        }
      ],
      "source": [
        "float_tensor_16 = float_32_tensor.type(torch.float16)\n",
        "float_tensor_16"
      ]
    },
    {
      "cell_type": "code",
      "execution_count": null,
      "metadata": {
        "colab": {
          "base_uri": "https://localhost:8080/"
        },
        "id": "CmoCAInvImYE",
        "outputId": "831886be-0e1f-46c8-e36f-e270fd6f43d9"
      },
      "outputs": [
        {
          "output_type": "execute_result",
          "data": {
            "text/plain": [
              "tensor([ 9., 36., 81.])"
            ]
          },
          "metadata": {},
          "execution_count": 64
        }
      ],
      "source": [
        "float_32_tensor * float_tensor_16"
      ]
    },
    {
      "cell_type": "markdown",
      "metadata": {
        "id": "O77bL-b1M3mI"
      },
      "source": [
        "#Getting information from tensors (Tensor attributes)\n",
        "\n",
        "1. Tensors not right datatype - check `tensor.dtype`\n",
        "2. Tensors not right shape - check - `tensor.shape`\n",
        "3. Tensors not on the right device - check device `tensor.device`"
      ]
    },
    {
      "cell_type": "code",
      "execution_count": null,
      "metadata": {
        "colab": {
          "base_uri": "https://localhost:8080/"
        },
        "id": "4zPVyfTkNZtl",
        "outputId": "b587966f-e513-4c9d-b49e-81b7c4ac04a6"
      },
      "outputs": [
        {
          "output_type": "stream",
          "name": "stdout",
          "text": [
            "tensor([[0.4358, 0.6960, 0.8258, 0.0718],\n",
            "        [0.4001, 0.0220, 0.2620, 0.2451],\n",
            "        [0.9974, 0.2605, 0.7157, 0.1197]])\n",
            "Datatype of tensor: torch.float32\n",
            "Shape of tensor: torch.Size([3, 4])\n",
            "Device tensor is on: cpu\n"
          ]
        }
      ],
      "source": [
        "# Create a tensor\n",
        "some_tensor = torch.rand(3,4)\n",
        "\n",
        "print(some_tensor)\n",
        "print(f\"Datatype of tensor: {some_tensor.dtype}\")\n",
        "print(f\"Shape of tensor: {some_tensor.shape}\")\n",
        "print(f\"Device tensor is on: {some_tensor.device}\")"
      ]
    },
    {
      "cell_type": "markdown",
      "metadata": {
        "id": "HNW5MFEF0NaB"
      },
      "source": [
        "### Manipulating Tensors (Tensor operations)\n",
        "\n",
        "####Tensor operations include:\n",
        "1. Addition\n",
        "2. Subtraction\n",
        "3. Multiplication\n",
        "4. Division\n",
        "5. Matrix multiplication (dot product)\n",
        "\n",
        "There are two main runles that performing matrix multiplication needs to satisfy:\n",
        "\n",
        "1. The <b>Inner Dimensions</b> must be the same:\n",
        "\n",
        "`(3,2) @ (3,2)` won't work\n",
        "\n",
        "`(2,3) @ (3,2)` will work\n"
      ]
    },
    {
      "cell_type": "code",
      "execution_count": null,
      "metadata": {
        "colab": {
          "base_uri": "https://localhost:8080/"
        },
        "id": "Ntmq-Sja0M6i",
        "outputId": "5b20e92e-cd34-4bd7-b584-313dd53a3d24"
      },
      "outputs": [
        {
          "output_type": "execute_result",
          "data": {
            "text/plain": [
              "tensor([11, 12, 13])"
            ]
          },
          "metadata": {},
          "execution_count": 66
        }
      ],
      "source": [
        "#create and tensor\n",
        "\n",
        "tensor = torch.tensor([1,2,3])\n",
        "tensor + 10"
      ]
    },
    {
      "cell_type": "code",
      "execution_count": null,
      "metadata": {
        "colab": {
          "base_uri": "https://localhost:8080/"
        },
        "id": "Q2eBAa1z1VtR",
        "outputId": "15991d4b-0208-4f44-b04b-60c502dbec6a"
      },
      "outputs": [
        {
          "output_type": "execute_result",
          "data": {
            "text/plain": [
              "tensor([10, 20, 30])"
            ]
          },
          "metadata": {},
          "execution_count": 67
        }
      ],
      "source": [
        "# multiply tensor by 10\n",
        "tensor1 = tensor * 10\n",
        "tensor1"
      ]
    },
    {
      "cell_type": "markdown",
      "metadata": {
        "id": "GEXEt_Cf3RUb"
      },
      "source": [
        "# Matrix multiplication\n",
        "1. Element-wise multiplication\n",
        "2. Matrix multiplication (dot product)\n"
      ]
    },
    {
      "cell_type": "code",
      "execution_count": null,
      "metadata": {
        "colab": {
          "base_uri": "https://localhost:8080/"
        },
        "id": "8RsrkLZ43wLf",
        "outputId": "f2992ed2-c074-452d-b358-89ae3265ef1b"
      },
      "outputs": [
        {
          "output_type": "stream",
          "name": "stdout",
          "text": [
            "tensor([1, 2, 3]) * tensor([1, 2, 3])\n",
            "Equals: tensor([1, 4, 9])\n"
          ]
        }
      ],
      "source": [
        "#Element wise multiplication\n",
        "\n",
        "print(tensor, \"*\",  tensor)\n",
        "print(f\"Equals: {tensor * tensor}\")"
      ]
    },
    {
      "cell_type": "code",
      "execution_count": null,
      "metadata": {
        "colab": {
          "base_uri": "https://localhost:8080/"
        },
        "id": "35glOWhK40re",
        "outputId": "76e7a2df-fb14-4925-ed3d-04cde6248599"
      },
      "outputs": [
        {
          "output_type": "stream",
          "name": "stdout",
          "text": [
            "tensor(14) this is just the matrix multiplication and addition of all addition\n"
          ]
        }
      ],
      "source": [
        "#Matrix multiplication\n",
        "print(torch.matmul(tensor, tensor), \"this is just the matrix multiplication and addition of all addition\")"
      ]
    },
    {
      "cell_type": "code",
      "execution_count": null,
      "metadata": {
        "id": "HNPhaKgv66hm"
      },
      "outputs": [],
      "source": [
        "anotherTensor = torch.tensor([1,2,4,5,6,7])"
      ]
    },
    {
      "cell_type": "code",
      "execution_count": null,
      "metadata": {
        "colab": {
          "base_uri": "https://localhost:8080/"
        },
        "id": "h9XUzO0z7bYl",
        "outputId": "8cd7710a-a5f6-4d0e-c081-f479219a7ad2"
      },
      "outputs": [
        {
          "output_type": "stream",
          "name": "stdout",
          "text": [
            "tensor(131)\n",
            "CPU times: user 1.57 ms, sys: 0 ns, total: 1.57 ms\n",
            "Wall time: 1.58 ms\n"
          ]
        }
      ],
      "source": [
        "%%time\n",
        "sum = 0\n",
        "for i in range(len(anotherTensor)):\n",
        "    sum += anotherTensor[i] * anotherTensor[i]\n",
        "print(sum)\n"
      ]
    },
    {
      "cell_type": "code",
      "execution_count": null,
      "metadata": {
        "colab": {
          "base_uri": "https://localhost:8080/"
        },
        "id": "Adiw-vTn76Sq",
        "outputId": "89a1dd54-ab87-496e-d319-3958648ddddb"
      },
      "outputs": [
        {
          "output_type": "stream",
          "name": "stdout",
          "text": [
            "tensor(131)\n",
            "CPU times: user 1.37 ms, sys: 0 ns, total: 1.37 ms\n",
            "Wall time: 2.61 ms\n"
          ]
        }
      ],
      "source": [
        "%%time\n",
        "print(torch.matmul(anotherTensor, anotherTensor))"
      ]
    },
    {
      "cell_type": "code",
      "execution_count": null,
      "metadata": {
        "colab": {
          "base_uri": "https://localhost:8080/"
        },
        "id": "SJ7mDuxb8p34",
        "outputId": "eff78815-fb1c-4e58-af98-49f64cca2484"
      },
      "outputs": [
        {
          "output_type": "execute_result",
          "data": {
            "text/plain": [
              "tensor(131)"
            ]
          },
          "metadata": {},
          "execution_count": 74
        }
      ],
      "source": [
        "torch.matmul(anotherTensor, anotherTensor)"
      ]
    },
    {
      "cell_type": "code",
      "execution_count": null,
      "metadata": {
        "colab": {
          "base_uri": "https://localhost:8080/"
        },
        "id": "4DIZLTW0BeRx",
        "outputId": "7c3e948b-98e8-456a-a51d-59a5f71199a0"
      },
      "outputs": [
        {
          "output_type": "stream",
          "name": "stdout",
          "text": [
            "tensor([[1, 2, 3],\n",
            "        [4, 5, 6]])\n",
            "tensor([[1, 2, 3],\n",
            "        [4, 5, 6]])\n",
            "tensor([[14, 32],\n",
            "        [32, 77]])\n"
          ]
        }
      ],
      "source": [
        "ten1 = torch.tensor([[1,2,3],\n",
        "                   [4,5,6]])\n",
        "ten2 = torch.tensor([[1,2,3],\n",
        "                   [4,5,6]])\n",
        "print(ten1)\n",
        "print(ten2)\n",
        "\n",
        "print(torch.matmul(ten1, ten2.T))"
      ]
    },
    {
      "cell_type": "code",
      "execution_count": null,
      "metadata": {
        "colab": {
          "base_uri": "https://localhost:8080/"
        },
        "id": "GVhMrzpTCDUF",
        "outputId": "75aa9161-893d-4685-ddd6-7f12ea8738d3"
      },
      "outputs": [
        {
          "output_type": "stream",
          "name": "stdout",
          "text": [
            "tensor([[1, 2, 3],\n",
            "        [4, 5, 6]], dtype=torch.int32)\n",
            "tensor([[1, 2, 3],\n",
            "        [4, 5, 6]], dtype=torch.int32)\n",
            "tensor([[14, 32],\n",
            "        [32, 77]], dtype=torch.int32)\n"
          ]
        }
      ],
      "source": [
        "ten1 = torch.tensor([[1,2,3],\n",
        "                   [4,5,6]], dtype=torch.int32) # Use torch.tensor to create a tensor with specific values\n",
        "ten2 = torch.tensor([[1,2,3],\n",
        "                   [4,5,6]], dtype=torch.int32) # Use torch.tensor to create a tensor with specific values\n",
        "print(ten1)\n",
        "print(ten2)\n",
        "\n",
        "print(torch.matmul(ten1, torch.transpose(ten2, 0, 1)))"
      ]
    },
    {
      "cell_type": "code",
      "execution_count": null,
      "metadata": {
        "colab": {
          "base_uri": "https://localhost:8080/"
        },
        "id": "9KdBrFa-SMlG",
        "outputId": "867acd20-d6f4-4b09-cffd-72a3fbdbecb2"
      },
      "outputs": [
        {
          "output_type": "stream",
          "name": "stdout",
          "text": [
            "tensor([[0.1343, 0.1220, 0.1545],\n",
            "        [0.8559, 0.7393, 0.9397],\n",
            "        [1.1176, 0.9694, 1.2317],\n",
            "        [0.0985, 0.0689, 0.0889],\n",
            "        [0.8003, 0.7565, 0.9558]])\n"
          ]
        }
      ],
      "source": [
        "print(torch.rand(5,2).matmul(torch.rand(2,3)))"
      ]
    },
    {
      "cell_type": "code",
      "execution_count": null,
      "metadata": {
        "colab": {
          "base_uri": "https://localhost:8080/"
        },
        "id": "pdTn685KTePO",
        "outputId": "988e33b4-dfd2-4ce8-9f97-ab136893a680"
      },
      "outputs": [
        {
          "output_type": "stream",
          "name": "stdout",
          "text": [
            "tensor([[  5,  14,  23],\n",
            "        [ 14,  41,  68],\n",
            "        [ 23,  68, 113]])\n"
          ]
        },
        {
          "output_type": "execute_result",
          "data": {
            "text/plain": [
              "tensor([[1, 4, 7],\n",
              "        [2, 5, 8]])"
            ]
          },
          "metadata": {},
          "execution_count": 82
        }
      ],
      "source": [
        "tens = torch.tensor([[1,2],\n",
        "                     [4,5],\n",
        "                     [7,8]])\n",
        "\n",
        "\n",
        "print(torch.matmul(tens, tens.T))\n",
        "\n",
        "tens.T"
      ]
    },
    {
      "cell_type": "markdown",
      "source": [
        "#finding the min, max, mean, (aggregation)\n",
        "Now we have see a few ways to manupulate tensors, lets run trhough fw ways to aggregate them (got from more valuese to less values)\n",
        "\n"
      ],
      "metadata": {
        "id": "CuWEJ_5nWjZd"
      }
    },
    {
      "cell_type": "code",
      "source": [
        "#Create a tensor\n",
        "x = torch.arange(0, 100, 10)\n",
        "print(x)\n",
        "print(x.min())\n",
        "print(x.max())\n",
        "print(x.type(torch.float32).mean())\n",
        "print(x.sum())"
      ],
      "metadata": {
        "colab": {
          "base_uri": "https://localhost:8080/"
        },
        "id": "jyZycBmNWoy2",
        "outputId": "98c10b4d-075d-48d7-ce7d-6cb47614fddf"
      },
      "execution_count": null,
      "outputs": [
        {
          "output_type": "stream",
          "name": "stdout",
          "text": [
            "tensor([ 0, 10, 20, 30, 40, 50, 60, 70, 80, 90])\n",
            "tensor(0)\n",
            "tensor(90)\n",
            "tensor(45.)\n",
            "tensor(450)\n"
          ]
        }
      ]
    },
    {
      "cell_type": "markdown",
      "source": [
        "**Note:** You may find some methods such as torch.mean() requires specific datatype, otherwise the operation will fail"
      ],
      "metadata": {
        "id": "xLGpDaUJaK6d"
      }
    },
    {
      "cell_type": "markdown",
      "source": [
        "#Positional min/max\n",
        "You can also find the index of the tensor where the max or minimum occurs with `torch.argmax()` and `torch.argmin()`\n",
        "\n",
        "\n",
        "This is helpful incase you just want the position where the highest (or lowest) value is and not the actual value itself (we'll see this in a later section when using the softmax activation function)."
      ],
      "metadata": {
        "id": "YWKTvLMoeo0B"
      }
    },
    {
      "cell_type": "code",
      "source": [
        " print(x.argmin())\n",
        " print(x.argmax())"
      ],
      "metadata": {
        "colab": {
          "base_uri": "https://localhost:8080/"
        },
        "id": "elUV4gZsabV2",
        "outputId": "64a12e50-be94-44ed-999f-e0f87f87a8e5"
      },
      "execution_count": null,
      "outputs": [
        {
          "output_type": "stream",
          "name": "stdout",
          "text": [
            "tensor(0)\n",
            "tensor(9)\n"
          ]
        }
      ]
    },
    {
      "cell_type": "markdown",
      "source": [
        "\n",
        "Reshaping, stacking, squeezing and unsqueezing\n",
        "\n",
        "## Reshaping, Stacking, Squeezing, and Unsqueezing\n",
        "\n",
        "Often times you'll want to reshape or change the dimensions of your tensors without actually changing the values inside them. Below are some popular methods:\n",
        "\n",
        "| Method                                   | One-line Description                                                                                  |\n",
        "|------------------------------------------|-----------------------------------------------------------------------------------------------------|\n",
        "| `torch.reshape(input, shape)`            | Reshapes input to shape (if compatible), can also use `torch.Tensor.reshape()`.                    |\n",
        "| `Tensor.view(shape)`                     | Returns a view of the original tensor in a different shape but shares the same data as the original tensor. |\n",
        "| `torch.stack(tensors, dim=0)`           | Concatenates a sequence of tensors along a new dimension (`dim`), all tensors must be the same size. |\n",
        "| `torch.squeeze(input)`                   | Squeezes input to remove all the dimensions with value 1.                                          |\n",
        "| `torch.unsqueeze(input, dim)`            | Returns input with a dimension value of 1 added at `dim`.                                          |\n",
        "| `torch.permute(input, dims)`             | Returns a view of the original input with its dimensions permuted (rearranged) to `dims`.         |\n"
      ],
      "metadata": {
        "id": "nlTDp2hPgYBI"
      }
    },
    {
      "cell_type": "code",
      "source": [
        "y = torch.arange(1, 10)\n",
        "y, y.shape"
      ],
      "metadata": {
        "colab": {
          "base_uri": "https://localhost:8080/"
        },
        "id": "uU66vajQhtmX",
        "outputId": "1e671d12-2206-4a12-b862-de0e7ca1394c"
      },
      "execution_count": null,
      "outputs": [
        {
          "output_type": "execute_result",
          "data": {
            "text/plain": [
              "(tensor([1, 2, 3, 4, 5, 6, 7, 8, 9]), torch.Size([9]))"
            ]
          },
          "metadata": {},
          "execution_count": 115
        }
      ]
    },
    {
      "cell_type": "code",
      "source": [
        "reshapedY = torch.reshape(y, (1,9))\n",
        "reshapedY"
      ],
      "metadata": {
        "colab": {
          "base_uri": "https://localhost:8080/"
        },
        "id": "gzaUEmF8iB4c",
        "outputId": "dcea027b-7a03-4026-8901-d43a3a9d620b"
      },
      "execution_count": null,
      "outputs": [
        {
          "output_type": "execute_result",
          "data": {
            "text/plain": [
              "tensor([[1, 2, 3, 4, 5, 6, 7, 8, 9]])"
            ]
          },
          "metadata": {},
          "execution_count": 116
        }
      ]
    },
    {
      "cell_type": "code",
      "source": [
        "#change the view\n",
        "z = y.view(1,9)\n",
        "z, z.shape"
      ],
      "metadata": {
        "colab": {
          "base_uri": "https://localhost:8080/"
        },
        "id": "e1uBrPkoi0YA",
        "outputId": "8e630d7a-f3a8-4e19-f72d-98b6e1aa2288"
      },
      "execution_count": null,
      "outputs": [
        {
          "output_type": "execute_result",
          "data": {
            "text/plain": [
              "(tensor([[1, 2, 3, 4, 5, 6, 7, 8, 9]]), torch.Size([1, 9]))"
            ]
          },
          "metadata": {},
          "execution_count": 132
        }
      ]
    },
    {
      "cell_type": "code",
      "source": [
        "#Changing z changes y (Because a view of a tensor shares the same as te original)\n",
        "# z[:] = 5\n",
        "z, y"
      ],
      "metadata": {
        "colab": {
          "base_uri": "https://localhost:8080/"
        },
        "id": "L0fBixivsbwC",
        "outputId": "6a3eda68-ce26-429a-e00d-3b42c112a402"
      },
      "execution_count": null,
      "outputs": [
        {
          "output_type": "execute_result",
          "data": {
            "text/plain": [
              "(tensor([[1, 2, 3, 4, 5, 6, 7, 8, 9]]), tensor([1, 2, 3, 4, 5, 6, 7, 8, 9]))"
            ]
          },
          "metadata": {},
          "execution_count": 118
        }
      ]
    },
    {
      "cell_type": "code",
      "source": [
        "#stack tensors on top of each other\n",
        "lol = torch.rand(3,3,3)\n",
        "lol_stacked = torch.stack((lol, lol), dim=1)\n",
        "lol, lol_stacked"
      ],
      "metadata": {
        "colab": {
          "base_uri": "https://localhost:8080/"
        },
        "id": "IeK1-nWVtV_e",
        "outputId": "4533c030-6425-4f29-86ac-a423d8e66cc6"
      },
      "execution_count": null,
      "outputs": [
        {
          "output_type": "execute_result",
          "data": {
            "text/plain": [
              "(tensor([[[0.3649, 0.6337, 0.2041],\n",
              "          [0.6480, 0.4312, 0.8773],\n",
              "          [0.8124, 0.6293, 0.8486]],\n",
              " \n",
              "         [[0.5058, 0.5448, 0.3457],\n",
              "          [0.3627, 0.1656, 0.6053],\n",
              "          [0.5177, 0.3495, 0.1030]],\n",
              " \n",
              "         [[0.5166, 0.9946, 0.6726],\n",
              "          [0.6777, 0.4705, 0.7422],\n",
              "          [0.6330, 0.2772, 0.0389]]]),\n",
              " tensor([[[[0.3649, 0.6337, 0.2041],\n",
              "           [0.6480, 0.4312, 0.8773],\n",
              "           [0.8124, 0.6293, 0.8486]],\n",
              " \n",
              "          [[0.3649, 0.6337, 0.2041],\n",
              "           [0.6480, 0.4312, 0.8773],\n",
              "           [0.8124, 0.6293, 0.8486]]],\n",
              " \n",
              " \n",
              "         [[[0.5058, 0.5448, 0.3457],\n",
              "           [0.3627, 0.1656, 0.6053],\n",
              "           [0.5177, 0.3495, 0.1030]],\n",
              " \n",
              "          [[0.5058, 0.5448, 0.3457],\n",
              "           [0.3627, 0.1656, 0.6053],\n",
              "           [0.5177, 0.3495, 0.1030]]],\n",
              " \n",
              " \n",
              "         [[[0.5166, 0.9946, 0.6726],\n",
              "           [0.6777, 0.4705, 0.7422],\n",
              "           [0.6330, 0.2772, 0.0389]],\n",
              " \n",
              "          [[0.5166, 0.9946, 0.6726],\n",
              "           [0.6777, 0.4705, 0.7422],\n",
              "           [0.6330, 0.2772, 0.0389]]]]))"
            ]
          },
          "metadata": {},
          "execution_count": 173
        }
      ]
    },
    {
      "cell_type": "code",
      "source": [],
      "metadata": {
        "colab": {
          "base_uri": "https://localhost:8080/"
        },
        "id": "eM6lQabi3kGY",
        "outputId": "3d4942d0-a010-49ce-eaf3-b464489a115a"
      },
      "execution_count": null,
      "outputs": [
        {
          "output_type": "execute_result",
          "data": {
            "text/plain": [
              "tensor([[0.2227, 0.6152, 0.6035],\n",
              "        [0.3936, 0.8901, 0.0410]], dtype=torch.float16)"
            ]
          },
          "metadata": {},
          "execution_count": 171
        }
      ]
    },
    {
      "cell_type": "markdown",
      "source": [
        "#Squeez and unsqueez"
      ],
      "metadata": {
        "id": "AlHbMpO6BCRw"
      }
    },
    {
      "cell_type": "code",
      "source": [
        "a = torch.rand(2,3,1,2)\n",
        "a"
      ],
      "metadata": {
        "colab": {
          "base_uri": "https://localhost:8080/"
        },
        "id": "GogcyGCRBG3I",
        "outputId": "9aa3df18-b72c-4af8-f881-44da226460c1"
      },
      "execution_count": null,
      "outputs": [
        {
          "output_type": "execute_result",
          "data": {
            "text/plain": [
              "tensor([[[[0.6867, 0.8734]],\n",
              "\n",
              "         [[0.6183, 0.9653]],\n",
              "\n",
              "         [[0.7216, 0.1852]]],\n",
              "\n",
              "\n",
              "        [[[0.7754, 0.6786]],\n",
              "\n",
              "         [[0.7491, 0.4121]],\n",
              "\n",
              "         [[0.1435, 0.7404]]]])"
            ]
          },
          "metadata": {},
          "execution_count": 174
        }
      ]
    },
    {
      "cell_type": "markdown",
      "source": [
        "**Squeeze** removes all the single dimensions from a target tensor"
      ],
      "metadata": {
        "id": "I1isa3miCvzW"
      }
    },
    {
      "cell_type": "code",
      "source": [
        "a_squeezed = a.squeeze?\n",
        "a_squeezed.shape, a.shape"
      ],
      "metadata": {
        "colab": {
          "base_uri": "https://localhost:8080/"
        },
        "id": "oHuaT62TBO88",
        "outputId": "b1118f45-806d-48b5-f233-8e6884054ccf"
      },
      "execution_count": null,
      "outputs": [
        {
          "output_type": "execute_result",
          "data": {
            "text/plain": [
              "(torch.Size([2, 3, 2]), torch.Size([2, 3, 1, 2]))"
            ]
          },
          "metadata": {},
          "execution_count": 182
        }
      ]
    },
    {
      "cell_type": "markdown",
      "source": [
        "**Unsqueeze** `torch.unsqueeze` - adds a single dimension to a target tensor at a specific dim (dimension)"
      ],
      "metadata": {
        "id": "3QDbx-ZNC8vn"
      }
    },
    {
      "cell_type": "code",
      "source": [
        "print(f\"Previous tensor: {a_squeezed}\")\n",
        "print(f\"Previous shape: {a_squeezed.shape}\")\n",
        "\n",
        "\n",
        "#adding an extra dimenstion with unsqueeze\n",
        "print(\"---------------------------------\")\n",
        "a_unsqueezed = a_squeezed.unsqueeze(dim=2)\n",
        "print(f\"\\nNew tensor: {a_unsqueezed}\")\n",
        "print(f\"New shape: {a_unsqueezed.shape}\")"
      ],
      "metadata": {
        "colab": {
          "base_uri": "https://localhost:8080/"
        },
        "id": "W0Nkf_tDDJjV",
        "outputId": "19d16f40-f16b-4215-81d7-c7c437e1171d"
      },
      "execution_count": null,
      "outputs": [
        {
          "output_type": "stream",
          "name": "stdout",
          "text": [
            "Previous tensor: tensor([[[0.6867, 0.8734],\n",
            "         [0.6183, 0.9653],\n",
            "         [0.7216, 0.1852]],\n",
            "\n",
            "        [[0.7754, 0.6786],\n",
            "         [0.7491, 0.4121],\n",
            "         [0.1435, 0.7404]]])\n",
            "Previous shape: torch.Size([2, 3, 2])\n",
            "---------------------------------\n",
            "\n",
            "New tensor: tensor([[[[0.6867, 0.8734]],\n",
            "\n",
            "         [[0.6183, 0.9653]],\n",
            "\n",
            "         [[0.7216, 0.1852]]],\n",
            "\n",
            "\n",
            "        [[[0.7754, 0.6786]],\n",
            "\n",
            "         [[0.7491, 0.4121]],\n",
            "\n",
            "         [[0.1435, 0.7404]]]])\n",
            "New shape: torch.Size([2, 3, 1, 2])\n"
          ]
        }
      ]
    },
    {
      "cell_type": "markdown",
      "source": [
        "**permute**\n",
        "\n",
        "torch.permute(input, dims) → Tensor\n",
        "Returns a view of the original tensor input with its dimensions permuted.\n",
        "\n",
        "Parameters\n",
        "input (Tensor) – the input tensor.\n",
        "\n",
        "dims (tuple of int) – The desired ordering of dimensions\n",
        "\n",
        "`torch.permute` - rearranges the dimensions of a target tensor in a specified order\n"
      ],
      "metadata": {
        "id": "vy8BEvsjEAC0"
      }
    },
    {
      "cell_type": "code",
      "source": [
        "x_original = torch.rand(224, 224, 3) # this is height, width nad colour_channels\n",
        "x_permuted = x_original.permute(2, 0 , 1)\n",
        "print(f\"Previous shape: {x_original.shape}\")\n",
        "print(f\"New shape: {x_permuted.shape}\")"
      ],
      "metadata": {
        "colab": {
          "base_uri": "https://localhost:8080/"
        },
        "id": "lo8ZwIn5EMNk",
        "outputId": "f81c8fa7-7ff8-46ec-9535-af31b71c5e55"
      },
      "execution_count": null,
      "outputs": [
        {
          "output_type": "stream",
          "name": "stdout",
          "text": [
            "Previous shape: torch.Size([224, 224, 3])\n",
            "New shape: torch.Size([3, 224, 224])\n"
          ]
        }
      ]
    },
    {
      "cell_type": "code",
      "source": [
        "x_original[0, 0, 0] = 3\n",
        "x_original[0,0,0]"
      ],
      "metadata": {
        "colab": {
          "base_uri": "https://localhost:8080/"
        },
        "id": "Y0u8lczdGVR7",
        "outputId": "8ef51af2-3021-464d-e46a-c633f1a31708"
      },
      "execution_count": null,
      "outputs": [
        {
          "output_type": "execute_result",
          "data": {
            "text/plain": [
              "tensor(3.)"
            ]
          },
          "metadata": {},
          "execution_count": 205
        }
      ]
    }
  ],
  "metadata": {
    "colab": {
      "provenance": []
    },
    "kernelspec": {
      "display_name": "Python 3",
      "name": "python3"
    },
    "language_info": {
      "name": "python"
    }
  },
  "nbformat": 4,
  "nbformat_minor": 0
}